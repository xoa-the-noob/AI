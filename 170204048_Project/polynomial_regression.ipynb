{
  "nbformat": 4,
  "nbformat_minor": 0,
  "metadata": {
    "colab": {
      "name": "Copy of Copy_of_polynomial_regression.ipynb",
      "provenance": [],
      "collapsed_sections": [
        "nZbx9Ps42QsH",
        "2XTSBSfo2fb5",
        "vCToLw9o2mxZ",
        "ya89N8qf2z2z",
        "Rb5nWuSHEfBV"
      ]
    },
    "kernelspec": {
      "name": "python3",
      "display_name": "Python 3"
    }
  },
  "cells": [
    {
      "cell_type": "markdown",
      "metadata": {
        "id": "vN99YjPTDena"
      },
      "source": [
        "# Polynomial Regression"
      ]
    },
    {
      "cell_type": "markdown",
      "metadata": {
        "id": "ZIx_naXnDyHd"
      },
      "source": [
        "## Importing the libraries"
      ]
    },
    {
      "cell_type": "code",
      "metadata": {
        "id": "FjnmdyPLD2tS"
      },
      "source": [
        "import numpy as np\n",
        "import matplotlib.pyplot as plt\n",
        "import pandas as pd"
      ],
      "execution_count": 3,
      "outputs": []
    },
    {
      "cell_type": "markdown",
      "metadata": {
        "id": "6c8YExmOD5x5"
      },
      "source": [
        "## Importing the dataset"
      ]
    },
    {
      "cell_type": "code",
      "metadata": {
        "id": "he0rEB7R2OD1"
      },
      "source": [
        "dataset = pd.read_csv('Google-Playstore.csv', encoding= 'unicode_escape')"
      ],
      "execution_count": 4,
      "outputs": []
    },
    {
      "cell_type": "markdown",
      "metadata": {
        "id": "nZbx9Ps42QsH"
      },
      "source": [
        "##Data Preprocessing"
      ]
    },
    {
      "cell_type": "code",
      "metadata": {
        "id": "pquyZLYZ2UJH"
      },
      "source": [
        "import re\n",
        "def find_number(text):\n",
        "    num = re.findall(r'[0-9]+',text)\n",
        "    return \" \".join(num)\n",
        "dataset['Total Installs(+)']=dataset['Installs'].apply(lambda x: find_number(x))\n",
        "dataset['MB']=dataset['Size'].apply(lambda x: find_number(x))\n",
        "\n",
        "dataset.drop(columns = ['Installs','Size','Minimum Android'],axis=1,inplace=True)\n",
        "\n",
        "column_names = ['Category','MB','Total Installs(+)','Rating Count','Rating']\n",
        "dataset = dataset.reindex(columns=column_names)\n",
        "\n",
        "dataset.dropna(inplace=True)\n",
        "dataset['MB'] = dataset['MB'].str.replace(\" \",\"\")\n",
        "dataset['Total Installs(+)'] = dataset['Total Installs(+)'].str.replace(\" \",\"\")\n",
        "dataset['Rating Count'] = pd.to_numeric(dataset['Rating Count'])\n",
        "dataset['Rating'] = pd.to_numeric(dataset['Rating'])\n",
        "\n",
        "dataset['Total Installs(+)'] = dataset['Total Installs(+)'].astype(float)\n",
        "\n",
        "dataset['MB'] = pd.to_numeric(dataset['MB'])"
      ],
      "execution_count": 5,
      "outputs": []
    },
    {
      "cell_type": "code",
      "metadata": {
        "id": "hCelJv_UxD8o"
      },
      "source": [
        "dataset = dataset[dataset.Rating != 0]"
      ],
      "execution_count": 6,
      "outputs": []
    },
    {
      "cell_type": "markdown",
      "metadata": {
        "id": "2XTSBSfo2fb5"
      },
      "source": [
        "##Allocating features and result"
      ]
    },
    {
      "cell_type": "code",
      "metadata": {
        "id": "GI0Fx5FN2i6f"
      },
      "source": [
        "X = dataset.iloc[:, :-1].values\n",
        "y = dataset.iloc[:, -1].values"
      ],
      "execution_count": 7,
      "outputs": []
    },
    {
      "cell_type": "code",
      "metadata": {
        "id": "zyp_KVhAIVM4",
        "colab": {
          "base_uri": "https://localhost:8080/"
        },
        "outputId": "febe93f5-58bb-41e2-b5d5-1e30c7607a1c"
      },
      "source": [
        "print(X)"
      ],
      "execution_count": 8,
      "outputs": [
        {
          "output_type": "stream",
          "name": "stdout",
          "text": [
            "[['Tools' 29.0 5000.0 64.0]\n",
            " ['Communication' 18.0 10.0 5.0]\n",
            " ['Libraries & Demo' 25.0 1000.0 12.0]\n",
            " ...\n",
            " ['Education' 39.0 100.0 20.0]\n",
            " ['Puzzle' 52.0 10000.0 61.0]\n",
            " ['Simulation' nan 1000000.0 9443.0]]\n"
          ]
        }
      ]
    },
    {
      "cell_type": "code",
      "metadata": {
        "id": "LAN5sfmoIYFR",
        "colab": {
          "base_uri": "https://localhost:8080/"
        },
        "outputId": "24349df9-ce08-40b4-f2b4-ee171921fa42"
      },
      "source": [
        "print(y)"
      ],
      "execution_count": 9,
      "outputs": [
        {
          "output_type": "stream",
          "name": "stdout",
          "text": [
            "[4.4 5.  4.5 2.  4.7 4.9 3.9 3.7 4.2 3.4 5.  3.7 4.4 3.8 4.2 4.6 4.1 3.4\n",
            " 3.4 2.5 2.3 3.7 2.1 4.9 5.  5.  2.7 4.3 3.8 4.4 3.1 3.8 4.7 4.3 4.1 4.7\n",
            " 3.1 3.7 4.9 4.3 5.  3.9 4.8 3.3 4.9 2.7 4.  4.5 2.4 3.2 3.6 3.9 3.6 2.6\n",
            " 2.6 3.3 4.6 4.2 4.3 5.  4.4 4.  3.4 5.  4.  4.4 4.3 4.8 5.  4.3 1.5 4.8\n",
            " 4.2 3.7 4.1 4.  3.7 4.  3.5 2.9 4.  4.6 4.3 4.8 4.1 4.9 4.8 5.  4.9 4.5\n",
            " 4.5 3.8 4.3 4.4 3.9 2.4 2.5 5.  4.2 4.1 4.6 2.4 3.6 4.6 3.9 4.4 3.7 3.9\n",
            " 3.7 4.8 4.3 4.3 4.6 4.5 1.3 4.3 4.  3.9 2.1 5.  3.1 4.6 3.9 4.3 3.9 5.\n",
            " 4.6 3.6 4.8 3.6 4.6 4.  4.7 4.2 4.5 3.2 3.4 4.3 5.  4.  4.4 4.1 5.  4.4\n",
            " 4.5 4.1 2.8 3.8 3.8 4.4 3.5 3.7 4.  4.4 3.  3.9 4.1 3.8 3.1 4.  4.1 2.1\n",
            " 3.9 4.6 5.  4.2 3.4 5.  4.  4.3 4.9 3.4 4.3 4.2 4.7 3.9 4.6 4.8 3.1 3.9\n",
            " 2.6 2.9 4.9 2.2 2.  4.5 4.1 3.9 4.5 4.  3.8 3.2 5.  4.4 4.8 4.6 4.3 4.2\n",
            " 4.  4.9 4.3 4.5 4.7 5.  4.1 4.  3.5 4.4 3.5 5.  3.3 4.8 4.4 4.8 4.  4.7\n",
            " 4.3 4.  2.8 4.1 4.5 4.4 4.5 5.  4.3 5.  2.6 4.8 4.4 4.6 4.3 4.4 4.2 4.2\n",
            " 5.  3.6 4.6 4.9 3.7 3.7 4.2 4.1 3.9 3.6 4.9 4.2 3.2 4.2 3.9 3.8 3.8 4.2\n",
            " 5.  3.6 4.8 4.1 5.  5.  4.8 2.8 4.  4.8 4.8 4.4 3.5 4.  4.  3.6 3.5 4.2\n",
            " 3.5 4.5 4.1 4.4 3.2 4.  3.9]\n"
          ]
        }
      ]
    },
    {
      "cell_type": "markdown",
      "metadata": {
        "id": "vCToLw9o2mxZ"
      },
      "source": [
        "##Filling missing values by mean"
      ]
    },
    {
      "cell_type": "code",
      "metadata": {
        "id": "oM3wPOYw2tR9"
      },
      "source": [
        "from sklearn.impute import SimpleImputer\n",
        "imputer = SimpleImputer(missing_values=np.nan, strategy='mean')\n",
        "imputer.fit(X[:, 1:4])\n",
        "X[:, 1:4] = imputer.transform(X[:, 1:4])"
      ],
      "execution_count": 10,
      "outputs": []
    },
    {
      "cell_type": "code",
      "metadata": {
        "id": "JoURQXFGIT_P",
        "colab": {
          "base_uri": "https://localhost:8080/"
        },
        "outputId": "92ff4f5c-7604-4321-8d38-7ceb81e89a82"
      },
      "source": [
        "print(X)"
      ],
      "execution_count": 11,
      "outputs": [
        {
          "output_type": "stream",
          "name": "stdout",
          "text": [
            "[['Tools' 29.0 5000.0 64.0]\n",
            " ['Communication' 18.0 10.0 5.0]\n",
            " ['Libraries & Demo' 25.0 1000.0 12.0]\n",
            " ...\n",
            " ['Education' 39.0 100.0 20.0]\n",
            " ['Puzzle' 52.0 10000.0 61.0]\n",
            " ['Simulation' 47.92424242424242 1000000.0 9443.0]]\n"
          ]
        }
      ]
    },
    {
      "cell_type": "code",
      "metadata": {
        "colab": {
          "base_uri": "https://localhost:8080/"
        },
        "id": "19wkVHGQ2u7e",
        "outputId": "7025d63a-9a4e-406c-f53c-2b57a81c89b5"
      },
      "source": [
        "print(y)"
      ],
      "execution_count": 12,
      "outputs": [
        {
          "output_type": "stream",
          "name": "stdout",
          "text": [
            "[4.4 5.  4.5 2.  4.7 4.9 3.9 3.7 4.2 3.4 5.  3.7 4.4 3.8 4.2 4.6 4.1 3.4\n",
            " 3.4 2.5 2.3 3.7 2.1 4.9 5.  5.  2.7 4.3 3.8 4.4 3.1 3.8 4.7 4.3 4.1 4.7\n",
            " 3.1 3.7 4.9 4.3 5.  3.9 4.8 3.3 4.9 2.7 4.  4.5 2.4 3.2 3.6 3.9 3.6 2.6\n",
            " 2.6 3.3 4.6 4.2 4.3 5.  4.4 4.  3.4 5.  4.  4.4 4.3 4.8 5.  4.3 1.5 4.8\n",
            " 4.2 3.7 4.1 4.  3.7 4.  3.5 2.9 4.  4.6 4.3 4.8 4.1 4.9 4.8 5.  4.9 4.5\n",
            " 4.5 3.8 4.3 4.4 3.9 2.4 2.5 5.  4.2 4.1 4.6 2.4 3.6 4.6 3.9 4.4 3.7 3.9\n",
            " 3.7 4.8 4.3 4.3 4.6 4.5 1.3 4.3 4.  3.9 2.1 5.  3.1 4.6 3.9 4.3 3.9 5.\n",
            " 4.6 3.6 4.8 3.6 4.6 4.  4.7 4.2 4.5 3.2 3.4 4.3 5.  4.  4.4 4.1 5.  4.4\n",
            " 4.5 4.1 2.8 3.8 3.8 4.4 3.5 3.7 4.  4.4 3.  3.9 4.1 3.8 3.1 4.  4.1 2.1\n",
            " 3.9 4.6 5.  4.2 3.4 5.  4.  4.3 4.9 3.4 4.3 4.2 4.7 3.9 4.6 4.8 3.1 3.9\n",
            " 2.6 2.9 4.9 2.2 2.  4.5 4.1 3.9 4.5 4.  3.8 3.2 5.  4.4 4.8 4.6 4.3 4.2\n",
            " 4.  4.9 4.3 4.5 4.7 5.  4.1 4.  3.5 4.4 3.5 5.  3.3 4.8 4.4 4.8 4.  4.7\n",
            " 4.3 4.  2.8 4.1 4.5 4.4 4.5 5.  4.3 5.  2.6 4.8 4.4 4.6 4.3 4.4 4.2 4.2\n",
            " 5.  3.6 4.6 4.9 3.7 3.7 4.2 4.1 3.9 3.6 4.9 4.2 3.2 4.2 3.9 3.8 3.8 4.2\n",
            " 5.  3.6 4.8 4.1 5.  5.  4.8 2.8 4.  4.8 4.8 4.4 3.5 4.  4.  3.6 3.5 4.2\n",
            " 3.5 4.5 4.1 4.4 3.2 4.  3.9]\n"
          ]
        }
      ]
    },
    {
      "cell_type": "markdown",
      "metadata": {
        "id": "ya89N8qf2z2z"
      },
      "source": [
        "##Encoding categorical variables"
      ]
    },
    {
      "cell_type": "code",
      "metadata": {
        "id": "XKVkAeUT23XU"
      },
      "source": [
        "from sklearn.compose import ColumnTransformer\n",
        "from sklearn.preprocessing import OneHotEncoder\n",
        "ct = ColumnTransformer(transformers=[('encoder', OneHotEncoder(sparse=False), [0])], remainder='passthrough')\n",
        "X = np.array(ct.fit_transform(X))"
      ],
      "execution_count": 13,
      "outputs": []
    },
    {
      "cell_type": "code",
      "metadata": {
        "colab": {
          "base_uri": "https://localhost:8080/"
        },
        "id": "j3p0DoHg27BU",
        "outputId": "4b85d5bb-7c76-4575-d1ae-d216aa3dc5a1"
      },
      "source": [
        "print(X)"
      ],
      "execution_count": 14,
      "outputs": [
        {
          "output_type": "stream",
          "name": "stdout",
          "text": [
            "[[0.0 0.0 0.0 ... 29.0 5000.0 64.0]\n",
            " [0.0 0.0 0.0 ... 18.0 10.0 5.0]\n",
            " [0.0 0.0 0.0 ... 25.0 1000.0 12.0]\n",
            " ...\n",
            " [0.0 0.0 0.0 ... 39.0 100.0 20.0]\n",
            " [0.0 0.0 0.0 ... 52.0 10000.0 61.0]\n",
            " [0.0 0.0 0.0 ... 47.92424242424242 1000000.0 9443.0]]\n"
          ]
        }
      ]
    },
    {
      "cell_type": "markdown",
      "metadata": {
        "id": "WemVnqgeA70k"
      },
      "source": [
        "## Splitting the dataset into the Training set and Test set"
      ]
    },
    {
      "cell_type": "code",
      "metadata": {
        "id": "_OyItkJJ9z-J"
      },
      "source": [
        "from sklearn.model_selection import train_test_split\n",
        "X_train, X_test, y_train, y_test = train_test_split(X, y, test_size = 0.25, random_state = 0)"
      ],
      "execution_count": 15,
      "outputs": []
    },
    {
      "cell_type": "code",
      "metadata": {
        "colab": {
          "base_uri": "https://localhost:8080/"
        },
        "id": "teSAAmk0DXph",
        "outputId": "17ec322b-1375-4247-b73c-c4681ae16778"
      },
      "source": [
        "print(X_train)"
      ],
      "execution_count": 16,
      "outputs": [
        {
          "output_type": "stream",
          "name": "stdout",
          "text": [
            "[[0.0 0.0 0.0 ... 66.0 100.0 7.0]\n",
            " [0.0 0.0 0.0 ... 127.0 1000.0 7.0]\n",
            " [0.0 0.0 0.0 ... 20.0 10000.0 54.0]\n",
            " ...\n",
            " [0.0 0.0 0.0 ... 19.0 1000.0 29.0]\n",
            " [0.0 0.0 0.0 ... 11.0 100000.0 1592.0]\n",
            " [0.0 0.0 0.0 ... 12.0 500.0 6.0]]\n"
          ]
        }
      ]
    },
    {
      "cell_type": "markdown",
      "metadata": {
        "id": "Rb5nWuSHEfBV"
      },
      "source": [
        "## Training the Polynomial Regression model on the whole dataset"
      ]
    },
    {
      "cell_type": "code",
      "metadata": {
        "colab": {
          "base_uri": "https://localhost:8080/"
        },
        "id": "HbXqyRegtUMC",
        "outputId": "9beb2c15-beb4-42a0-9e85-27c381407d7b"
      },
      "source": [
        "from sklearn.linear_model import LinearRegression\n",
        "lin_reg = LinearRegression()\n",
        "lin_reg.fit(X, y)"
      ],
      "execution_count": 17,
      "outputs": [
        {
          "output_type": "execute_result",
          "data": {
            "text/plain": [
              "LinearRegression(copy_X=True, fit_intercept=True, n_jobs=None, normalize=False)"
            ]
          },
          "metadata": {},
          "execution_count": 17
        }
      ]
    },
    {
      "cell_type": "code",
      "metadata": {
        "id": "HYplp4pTEm0O",
        "colab": {
          "base_uri": "https://localhost:8080/"
        },
        "outputId": "27b95318-4bbf-4b42-f7e5-3c550bc235fd"
      },
      "source": [
        "from sklearn.preprocessing import PolynomialFeatures\n",
        "poly_reg = PolynomialFeatures(degree = 2)\n",
        "X_poly = poly_reg.fit_transform(X)\n",
        "X_poly_test = poly_reg.fit_transform(X_test)\n",
        "lin_reg_2 = LinearRegression()\n",
        "lin_reg_2.fit(X_poly, y)"
      ],
      "execution_count": 18,
      "outputs": [
        {
          "output_type": "execute_result",
          "data": {
            "text/plain": [
              "LinearRegression(copy_X=True, fit_intercept=True, n_jobs=None, normalize=False)"
            ]
          },
          "metadata": {},
          "execution_count": 18
        }
      ]
    },
    {
      "cell_type": "markdown",
      "metadata": {
        "id": "bgqS61CB3G8P"
      },
      "source": [
        "##Model Evaluation by r2_score"
      ]
    },
    {
      "cell_type": "code",
      "metadata": {
        "colab": {
          "base_uri": "https://localhost:8080/"
        },
        "id": "gqW6AvMq3L6P",
        "outputId": "a8136634-1760-49e2-8d94-0813582fc016"
      },
      "source": [
        "from sklearn.metrics import r2_score\n",
        "prediction = lin_reg_2.predict(X_poly_test)\n",
        "r2_score(prediction,y_test)"
      ],
      "execution_count": 19,
      "outputs": [
        {
          "output_type": "execute_result",
          "data": {
            "text/plain": [
              "0.24180098210033873"
            ]
          },
          "metadata": {},
          "execution_count": 19
        }
      ]
    },
    {
      "cell_type": "markdown",
      "metadata": {
        "id": "AlBMxkt53MuV"
      },
      "source": [
        "##Model Evaluation by Root Mean Squared Error(RMSE)"
      ]
    },
    {
      "cell_type": "code",
      "metadata": {
        "colab": {
          "base_uri": "https://localhost:8080/"
        },
        "id": "GW1Stg5Y3eTE",
        "outputId": "025909ee-4193-4939-d7e6-1c3c08c1b01d"
      },
      "source": [
        "from sklearn.metrics import mean_squared_error\n",
        "prediction = lin_reg_2.predict(X_poly_test)\n",
        "mean_squared_error(prediction,y_test,squared=True)"
      ],
      "execution_count": 20,
      "outputs": [
        {
          "output_type": "execute_result",
          "data": {
            "text/plain": [
              "0.2406581125057601"
            ]
          },
          "metadata": {},
          "execution_count": 20
        }
      ]
    },
    {
      "cell_type": "markdown",
      "metadata": {
        "id": "8zCYF3Bw3UVh"
      },
      "source": [
        "##Model Evaluation by Mean Squared Error(MSE)"
      ]
    },
    {
      "cell_type": "code",
      "metadata": {
        "colab": {
          "base_uri": "https://localhost:8080/"
        },
        "id": "-OMF_4I23g4K",
        "outputId": "3ff0086b-329b-4cc3-e662-1631f2b4daf0"
      },
      "source": [
        "from sklearn.metrics import mean_squared_error\n",
        "prediction = lin_reg_2.predict(X_poly_test)\n",
        "mean_squared_error(prediction,y_test,squared=False)"
      ],
      "execution_count": 21,
      "outputs": [
        {
          "output_type": "execute_result",
          "data": {
            "text/plain": [
              "0.49056917198878297"
            ]
          },
          "metadata": {},
          "execution_count": 21
        }
      ]
    },
    {
      "cell_type": "markdown",
      "metadata": {
        "id": "PqJsr4Zg3X_g"
      },
      "source": [
        "##Model Evaluation by Mean Absolute Error(MAE)"
      ]
    },
    {
      "cell_type": "code",
      "metadata": {
        "colab": {
          "base_uri": "https://localhost:8080/"
        },
        "id": "Bh7VIjO2ry1m",
        "outputId": "995adceb-beff-454f-8e5a-1ca1ee39cf06"
      },
      "source": [
        "from sklearn.metrics import mean_absolute_error\n",
        "prediction = lin_reg_2.predict(X_poly_test)\n",
        "mean_absolute_error(prediction,y_test)"
      ],
      "execution_count": 22,
      "outputs": [
        {
          "output_type": "execute_result",
          "data": {
            "text/plain": [
              "0.33857943995704426"
            ]
          },
          "metadata": {},
          "execution_count": 22
        }
      ]
    },
    {
      "cell_type": "markdown",
      "metadata": {
        "id": "stOnSo74E52m"
      },
      "source": [
        "## Visualising the Polynomial Regression results"
      ]
    },
    {
      "cell_type": "code",
      "metadata": {
        "id": "UCOcurIQE7Zv",
        "colab": {
          "base_uri": "https://localhost:8080/",
          "height": 279
        },
        "outputId": "db55c6ea-e653-4923-a063-2f22d9375c45"
      },
      "source": [
        "plt.scatter(X[:,0], y, color = 'red')\n",
        "plt.plot(X[:,0], lin_reg_2.predict(poly_reg.fit_transform(X)), color = 'blue')\n",
        "plt.xlabel('Features')\n",
        "plt.ylabel('Rating')\n",
        "plt.show()"
      ],
      "execution_count": 23,
      "outputs": [
        {
          "output_type": "display_data",
          "data": {
            "image/png": "[encoded data removed]",
            "text/plain": [
              "<Figure size 432x288 with 1 Axes>"
            ]
          },
          "metadata": {
            "needs_background": "light"
          }
        }
      ]
    }
  ]
}