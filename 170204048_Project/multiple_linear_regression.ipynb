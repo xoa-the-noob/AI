{
  "nbformat": 4,
  "nbformat_minor": 0,
  "metadata": {
    "colab": {
      "name": "ready for models.ipynb",
      "provenance": [],
      "collapsed_sections": [
        "D4t3sdCJzcbq",
        "3zG7bB_R0dQa",
        "YMW2WR8y0HrD",
        "VadrvE7s_lS9"
      ]
    },
    "kernelspec": {
      "name": "python3",
      "display_name": "Python 3"
    }
  },
  "cells": [
    {
      "cell_type": "markdown",
      "metadata": {
        "id": "CazISR8X_HUG"
      },
      "source": [
        "# Multiple Linear Regression"
      ]
    },
    {
      "cell_type": "markdown",
      "metadata": {
        "id": "pOyqYHTk_Q57"
      },
      "source": [
        "## Importing the libraries"
      ]
    },
    {
      "cell_type": "code",
      "metadata": {
        "id": "T_YHJjnD_Tja"
      },
      "source": [
        "import numpy as np\n",
        "import matplotlib.pyplot as plt\n",
        "import pandas as pd"
      ],
      "execution_count": 1,
      "outputs": []
    },
    {
      "cell_type": "markdown",
      "metadata": {
        "id": "vgC61-ah_WIz"
      },
      "source": [
        "## Importing the dataset"
      ]
    },
    {
      "cell_type": "code",
      "metadata": {
        "id": "UrxyEKGn_ez7"
      },
      "source": [
        "dataset = pd.read_csv('Google-Playstore.csv', encoding= 'unicode_escape')"
      ],
      "execution_count": 2,
      "outputs": []
    },
    {
      "cell_type": "markdown",
      "metadata": {
        "id": "D4t3sdCJzcbq"
      },
      "source": [
        "##Data Preprocessing\n"
      ]
    },
    {
      "cell_type": "code",
      "metadata": {
        "id": "SV7t2HhYVATa"
      },
      "source": [
        "import re\n",
        "def find_number(text):\n",
        "    num = re.findall(r'[0-9]+',text)\n",
        "    return \" \".join(num)\n",
        "dataset['Total Installs(+)']=dataset['Installs'].apply(lambda x: find_number(x))\n",
        "dataset['MB']=dataset['Size'].apply(lambda x: find_number(x))"
      ],
      "execution_count": 3,
      "outputs": []
    },
    {
      "cell_type": "code",
      "metadata": {
        "id": "2ybaSvP-XCSB"
      },
      "source": [
        "dataset.drop(columns = ['Installs','Size','Minimum Android'],axis=1,inplace=True)"
      ],
      "execution_count": 4,
      "outputs": []
    },
    {
      "cell_type": "code",
      "metadata": {
        "id": "DonmP6rOYEaL"
      },
      "source": [
        "column_names = ['Category','MB','Total Installs(+)','Rating Count','Rating']\n",
        "dataset = dataset.reindex(columns=column_names)"
      ],
      "execution_count": 5,
      "outputs": []
    },
    {
      "cell_type": "code",
      "metadata": {
        "id": "T7hXR4xvzvMn"
      },
      "source": [
        "dataset.dropna(inplace=True)"
      ],
      "execution_count": 6,
      "outputs": []
    },
    {
      "cell_type": "code",
      "metadata": {
        "id": "kBkYDSHScOIY"
      },
      "source": [
        "dataset['MB'] = dataset['MB'].str.replace(\" \",\"\")\n",
        "dataset['Total Installs(+)'] = dataset['Total Installs(+)'].str.replace(\" \",\"\")"
      ],
      "execution_count": 7,
      "outputs": []
    },
    {
      "cell_type": "code",
      "metadata": {
        "id": "Bh3GaAhajKbl"
      },
      "source": [
        "dataset['Rating Count'] = pd.to_numeric(dataset['Rating Count'])\n",
        "dataset['Rating'] = pd.to_numeric(dataset['Rating'])\n",
        "dataset['Total Installs(+)'] = dataset['Total Installs(+)'].astype(float)\n",
        "dataset['MB'] = pd.to_numeric(dataset['MB'])"
      ],
      "execution_count": 8,
      "outputs": []
    },
    {
      "cell_type": "code",
      "metadata": {
        "id": "Y-ZwxeMWvuN5"
      },
      "source": [
        "dataset.dropna(inplace=True)"
      ],
      "execution_count": 9,
      "outputs": []
    },
    {
      "cell_type": "code",
      "metadata": {
        "id": "VuyqbbO0wUQS"
      },
      "source": [
        "dataset = dataset[dataset.Rating != 0]"
      ],
      "execution_count": 10,
      "outputs": []
    },
    {
      "cell_type": "code",
      "metadata": {
        "colab": {
          "base_uri": "https://localhost:8080/",
          "height": 0
        },
        "id": "evXwzX8yxfzR",
        "outputId": "c06b7aa6-c21a-404b-9aa4-e23039182385"
      },
      "source": [
        "dataset"
      ],
      "execution_count": 11,
      "outputs": [
        {
          "output_type": "execute_result",
          "data": {
            "text/html": [
              "<div>\n",
              "<style scoped>\n",
              "    .dataframe tbody tr th:only-of-type {\n",
              "        vertical-align: middle;\n",
              "    }\n",
              "\n",
              "    .dataframe tbody tr th {\n",
              "        vertical-align: top;\n",
              "    }\n",
              "\n",
              "    .dataframe thead th {\n",
              "        text-align: right;\n",
              "    }\n",
              "</style>\n",
              "<table border=\"1\" class=\"dataframe\">\n",
              "  <thead>\n",
              "    <tr style=\"text-align: right;\">\n",
              "      <th></th>\n",
              "      <th>Category</th>\n",
              "      <th>MB</th>\n",
              "      <th>Total Installs(+)</th>\n",
              "      <th>Rating Count</th>\n",
              "      <th>Rating</th>\n",
              "    </tr>\n",
              "  </thead>\n",
              "  <tbody>\n",
              "    <tr>\n",
              "      <th>1</th>\n",
              "      <td>Tools</td>\n",
              "      <td>29.0</td>\n",
              "      <td>5000.0</td>\n",
              "      <td>64.0</td>\n",
              "      <td>4.4</td>\n",
              "    </tr>\n",
              "    <tr>\n",
              "      <th>3</th>\n",
              "      <td>Communication</td>\n",
              "      <td>18.0</td>\n",
              "      <td>10.0</td>\n",
              "      <td>5.0</td>\n",
              "      <td>5.0</td>\n",
              "    </tr>\n",
              "    <tr>\n",
              "      <th>6</th>\n",
              "      <td>Libraries &amp; Demo</td>\n",
              "      <td>25.0</td>\n",
              "      <td>1000.0</td>\n",
              "      <td>12.0</td>\n",
              "      <td>4.5</td>\n",
              "    </tr>\n",
              "    <tr>\n",
              "      <th>7</th>\n",
              "      <td>Lifestyle</td>\n",
              "      <td>16.0</td>\n",
              "      <td>500.0</td>\n",
              "      <td>39.0</td>\n",
              "      <td>2.0</td>\n",
              "    </tr>\n",
              "    <tr>\n",
              "      <th>9</th>\n",
              "      <td>Personalization</td>\n",
              "      <td>35.0</td>\n",
              "      <td>50000.0</td>\n",
              "      <td>820.0</td>\n",
              "      <td>4.7</td>\n",
              "    </tr>\n",
              "    <tr>\n",
              "      <th>...</th>\n",
              "      <td>...</td>\n",
              "      <td>...</td>\n",
              "      <td>...</td>\n",
              "      <td>...</td>\n",
              "      <td>...</td>\n",
              "    </tr>\n",
              "    <tr>\n",
              "      <th>537</th>\n",
              "      <td>Productivity</td>\n",
              "      <td>16.0</td>\n",
              "      <td>1000.0</td>\n",
              "      <td>11.0</td>\n",
              "      <td>4.5</td>\n",
              "    </tr>\n",
              "    <tr>\n",
              "      <th>538</th>\n",
              "      <td>Photography</td>\n",
              "      <td>79.0</td>\n",
              "      <td>1000.0</td>\n",
              "      <td>7.0</td>\n",
              "      <td>4.1</td>\n",
              "    </tr>\n",
              "    <tr>\n",
              "      <th>541</th>\n",
              "      <td>Shopping</td>\n",
              "      <td>18.0</td>\n",
              "      <td>500000.0</td>\n",
              "      <td>10549.0</td>\n",
              "      <td>4.4</td>\n",
              "    </tr>\n",
              "    <tr>\n",
              "      <th>542</th>\n",
              "      <td>Education</td>\n",
              "      <td>39.0</td>\n",
              "      <td>100.0</td>\n",
              "      <td>20.0</td>\n",
              "      <td>3.2</td>\n",
              "    </tr>\n",
              "    <tr>\n",
              "      <th>546</th>\n",
              "      <td>Puzzle</td>\n",
              "      <td>52.0</td>\n",
              "      <td>10000.0</td>\n",
              "      <td>61.0</td>\n",
              "      <td>4.0</td>\n",
              "    </tr>\n",
              "  </tbody>\n",
              "</table>\n",
              "<p>264 rows × 5 columns</p>\n",
              "</div>"
            ],
            "text/plain": [
              "             Category    MB  Total Installs(+)  Rating Count  Rating\n",
              "1               Tools  29.0             5000.0          64.0     4.4\n",
              "3       Communication  18.0               10.0           5.0     5.0\n",
              "6    Libraries & Demo  25.0             1000.0          12.0     4.5\n",
              "7           Lifestyle  16.0              500.0          39.0     2.0\n",
              "9     Personalization  35.0            50000.0         820.0     4.7\n",
              "..                ...   ...                ...           ...     ...\n",
              "537      Productivity  16.0             1000.0          11.0     4.5\n",
              "538       Photography  79.0             1000.0           7.0     4.1\n",
              "541          Shopping  18.0           500000.0       10549.0     4.4\n",
              "542         Education  39.0              100.0          20.0     3.2\n",
              "546            Puzzle  52.0            10000.0          61.0     4.0\n",
              "\n",
              "[264 rows x 5 columns]"
            ]
          },
          "metadata": {},
          "execution_count": 11
        }
      ]
    },
    {
      "cell_type": "markdown",
      "metadata": {
        "id": "3zG7bB_R0dQa"
      },
      "source": [
        "##Allocating features and result"
      ]
    },
    {
      "cell_type": "code",
      "metadata": {
        "id": "QYOovBFx0lPC"
      },
      "source": [
        "X = dataset.iloc[:, :-1].values\n",
        "y = dataset.iloc[:, -1].values"
      ],
      "execution_count": 12,
      "outputs": []
    },
    {
      "cell_type": "code",
      "metadata": {
        "colab": {
          "base_uri": "https://localhost:8080/"
        },
        "id": "69Ho90HT0l4Y",
        "outputId": "3d246d1d-32c4-478d-ccd6-b4acdd69eb86"
      },
      "source": [
        "print(X)"
      ],
      "execution_count": 13,
      "outputs": [
        {
          "output_type": "stream",
          "name": "stdout",
          "text": [
            "[['Tools' 29.0 5000.0 64.0]\n",
            " ['Communication' 18.0 10.0 5.0]\n",
            " ['Libraries & Demo' 25.0 1000.0 12.0]\n",
            " ...\n",
            " ['Shopping' 18.0 500000.0 10549.0]\n",
            " ['Education' 39.0 100.0 20.0]\n",
            " ['Puzzle' 52.0 10000.0 61.0]]\n"
          ]
        }
      ]
    },
    {
      "cell_type": "code",
      "metadata": {
        "colab": {
          "base_uri": "https://localhost:8080/"
        },
        "id": "ZZlzsqQx0mhW",
        "outputId": "9f08c913-21bb-49d0-e274-2bcf62a93c9f"
      },
      "source": [
        "print(y)"
      ],
      "execution_count": 14,
      "outputs": [
        {
          "output_type": "stream",
          "name": "stdout",
          "text": [
            "[4.4 5.  4.5 2.  4.7 4.9 3.9 3.7 4.2 3.4 5.  3.7 4.4 3.8 4.2 4.6 4.1 3.4\n",
            " 3.4 2.5 2.3 3.7 2.1 4.9 5.  5.  2.7 4.3 3.8 4.4 3.1 3.8 4.7 4.3 4.1 4.7\n",
            " 3.1 3.7 4.9 4.3 5.  3.9 4.8 3.3 4.9 2.7 4.  4.5 2.4 3.2 3.6 3.9 3.6 2.6\n",
            " 2.6 3.3 4.6 4.2 4.3 5.  4.4 4.  3.4 5.  4.  4.4 4.3 4.8 5.  4.3 1.5 3.7\n",
            " 4.1 4.  3.7 4.  2.9 4.  4.6 4.3 4.8 4.1 4.9 4.8 5.  4.9 4.5 4.5 3.8 2.4\n",
            " 2.5 5.  4.2 4.1 4.6 3.6 4.6 3.9 4.4 3.7 3.9 3.7 4.8 4.3 4.3 4.6 4.5 1.3\n",
            " 4.3 4.  3.9 2.1 5.  3.1 4.6 3.9 4.3 3.9 5.  4.6 3.6 4.8 3.6 4.6 4.  4.7\n",
            " 4.2 4.5 3.2 3.4 4.3 5.  4.4 4.1 5.  4.4 4.5 4.1 2.8 3.8 3.8 4.4 3.5 3.7\n",
            " 4.  4.4 3.  3.9 4.1 3.8 3.1 4.  4.1 2.1 3.9 4.6 5.  4.2 3.4 5.  4.  4.3\n",
            " 4.9 3.4 4.3 4.2 4.7 3.9 4.6 4.8 3.1 3.9 2.9 4.9 2.2 2.  4.5 4.1 3.9 4.5\n",
            " 4.  3.8 5.  4.4 4.8 4.6 4.3 4.2 4.  4.9 4.3 4.5 4.7 5.  4.1 4.  3.5 4.4\n",
            " 3.5 5.  3.3 4.8 4.4 4.8 4.  4.7 4.3 4.  2.8 4.5 4.4 4.5 5.  4.3 5.  2.6\n",
            " 4.8 4.4 4.6 4.3 4.4 4.2 4.2 3.6 4.6 4.9 3.7 3.7 4.2 4.1 3.9 3.6 4.9 4.2\n",
            " 3.2 4.2 3.9 3.8 3.8 4.2 5.  3.6 4.8 4.1 5.  5.  4.8 2.8 4.  4.8 4.8 4.4\n",
            " 3.5 4.  4.  3.6 3.5 4.2 3.5 4.5 4.1 4.4 3.2 4. ]\n"
          ]
        }
      ]
    },
    {
      "cell_type": "markdown",
      "metadata": {
        "id": "YMW2WR8y0HrD"
      },
      "source": [
        "##Filling missing values by mean"
      ]
    },
    {
      "cell_type": "code",
      "metadata": {
        "id": "gr01buWq0R6Y"
      },
      "source": [
        "from sklearn.impute import SimpleImputer\n",
        "imputer = SimpleImputer(missing_values=np.nan, strategy='mean')\n",
        "imputer.fit(X[:, 1:4])\n",
        "X[:, 1:4] = imputer.transform(X[:, 1:4])"
      ],
      "execution_count": 15,
      "outputs": []
    },
    {
      "cell_type": "code",
      "metadata": {
        "colab": {
          "base_uri": "https://localhost:8080/"
        },
        "id": "MnfbG4Jx0SLL",
        "outputId": "ca741f78-5896-4bfc-a439-e5a158b6af64"
      },
      "source": [
        "print(X)"
      ],
      "execution_count": 16,
      "outputs": [
        {
          "output_type": "stream",
          "name": "stdout",
          "text": [
            "[['Tools' 29.0 5000.0 64.0]\n",
            " ['Communication' 18.0 10.0 5.0]\n",
            " ['Libraries & Demo' 25.0 1000.0 12.0]\n",
            " ...\n",
            " ['Shopping' 18.0 500000.0 10549.0]\n",
            " ['Education' 39.0 100.0 20.0]\n",
            " ['Puzzle' 52.0 10000.0 61.0]]\n"
          ]
        }
      ]
    },
    {
      "cell_type": "markdown",
      "metadata": {
        "id": "VadrvE7s_lS9"
      },
      "source": [
        "## Encoding categorical data"
      ]
    },
    {
      "cell_type": "code",
      "metadata": {
        "id": "wV3fD1mbAvsh"
      },
      "source": [
        "from sklearn.compose import ColumnTransformer\n",
        "from sklearn.preprocessing import OneHotEncoder\n",
        "ct = ColumnTransformer(transformers=[('encoder', OneHotEncoder(sparse=False), [0])], remainder='passthrough')\n",
        "X = np.array(ct.fit_transform(X))"
      ],
      "execution_count": 17,
      "outputs": []
    },
    {
      "cell_type": "code",
      "metadata": {
        "id": "4ym3HdYeCGYG",
        "colab": {
          "base_uri": "https://localhost:8080/"
        },
        "outputId": "b9f09184-bf41-48dd-bf19-0630b9c78316"
      },
      "source": [
        "print(X)"
      ],
      "execution_count": 18,
      "outputs": [
        {
          "output_type": "stream",
          "name": "stdout",
          "text": [
            "[[0.0 0.0 0.0 ... 29.0 5000.0 64.0]\n",
            " [0.0 0.0 0.0 ... 18.0 10.0 5.0]\n",
            " [0.0 0.0 0.0 ... 25.0 1000.0 12.0]\n",
            " ...\n",
            " [0.0 0.0 0.0 ... 18.0 500000.0 10549.0]\n",
            " [0.0 0.0 0.0 ... 39.0 100.0 20.0]\n",
            " [0.0 0.0 0.0 ... 52.0 10000.0 61.0]]\n"
          ]
        }
      ]
    },
    {
      "cell_type": "code",
      "metadata": {
        "id": "U860dht5rEOU",
        "colab": {
          "base_uri": "https://localhost:8080/"
        },
        "outputId": "1cce56b7-e7c8-4484-9efb-c146e8709b8b"
      },
      "source": [
        "print(y)"
      ],
      "execution_count": 19,
      "outputs": [
        {
          "output_type": "stream",
          "name": "stdout",
          "text": [
            "[4.4 5.  4.5 2.  4.7 4.9 3.9 3.7 4.2 3.4 5.  3.7 4.4 3.8 4.2 4.6 4.1 3.4\n",
            " 3.4 2.5 2.3 3.7 2.1 4.9 5.  5.  2.7 4.3 3.8 4.4 3.1 3.8 4.7 4.3 4.1 4.7\n",
            " 3.1 3.7 4.9 4.3 5.  3.9 4.8 3.3 4.9 2.7 4.  4.5 2.4 3.2 3.6 3.9 3.6 2.6\n",
            " 2.6 3.3 4.6 4.2 4.3 5.  4.4 4.  3.4 5.  4.  4.4 4.3 4.8 5.  4.3 1.5 3.7\n",
            " 4.1 4.  3.7 4.  2.9 4.  4.6 4.3 4.8 4.1 4.9 4.8 5.  4.9 4.5 4.5 3.8 2.4\n",
            " 2.5 5.  4.2 4.1 4.6 3.6 4.6 3.9 4.4 3.7 3.9 3.7 4.8 4.3 4.3 4.6 4.5 1.3\n",
            " 4.3 4.  3.9 2.1 5.  3.1 4.6 3.9 4.3 3.9 5.  4.6 3.6 4.8 3.6 4.6 4.  4.7\n",
            " 4.2 4.5 3.2 3.4 4.3 5.  4.4 4.1 5.  4.4 4.5 4.1 2.8 3.8 3.8 4.4 3.5 3.7\n",
            " 4.  4.4 3.  3.9 4.1 3.8 3.1 4.  4.1 2.1 3.9 4.6 5.  4.2 3.4 5.  4.  4.3\n",
            " 4.9 3.4 4.3 4.2 4.7 3.9 4.6 4.8 3.1 3.9 2.9 4.9 2.2 2.  4.5 4.1 3.9 4.5\n",
            " 4.  3.8 5.  4.4 4.8 4.6 4.3 4.2 4.  4.9 4.3 4.5 4.7 5.  4.1 4.  3.5 4.4\n",
            " 3.5 5.  3.3 4.8 4.4 4.8 4.  4.7 4.3 4.  2.8 4.5 4.4 4.5 5.  4.3 5.  2.6\n",
            " 4.8 4.4 4.6 4.3 4.4 4.2 4.2 3.6 4.6 4.9 3.7 3.7 4.2 4.1 3.9 3.6 4.9 4.2\n",
            " 3.2 4.2 3.9 3.8 3.8 4.2 5.  3.6 4.8 4.1 5.  5.  4.8 2.8 4.  4.8 4.8 4.4\n",
            " 3.5 4.  4.  3.6 3.5 4.2 3.5 4.5 4.1 4.4 3.2 4. ]\n"
          ]
        }
      ]
    },
    {
      "cell_type": "code",
      "metadata": {
        "colab": {
          "base_uri": "https://localhost:8080/"
        },
        "id": "2TgXewwz2Lrl",
        "outputId": "22cde224-130d-4fd9-ccfc-07ab0bc37c7f"
      },
      "source": [
        "dataset.shape"
      ],
      "execution_count": 20,
      "outputs": [
        {
          "output_type": "execute_result",
          "data": {
            "text/plain": [
              "(264, 5)"
            ]
          },
          "metadata": {},
          "execution_count": 20
        }
      ]
    },
    {
      "cell_type": "markdown",
      "metadata": {
        "id": "WemVnqgeA70k"
      },
      "source": [
        "## Splitting the dataset into the Training set and Test set"
      ]
    },
    {
      "cell_type": "code",
      "metadata": {
        "id": "Kb_v_ae-A-20"
      },
      "source": [
        "from sklearn.model_selection import train_test_split\n",
        "X_train, X_test, y_train, y_test = train_test_split(X, y, test_size = 0.25, random_state = 0)"
      ],
      "execution_count": 21,
      "outputs": []
    },
    {
      "cell_type": "markdown",
      "metadata": {
        "id": "k-McZVsQBINc"
      },
      "source": [
        "## Training the Multiple Linear Regression model on the Training set"
      ]
    },
    {
      "cell_type": "code",
      "metadata": {
        "id": "ywPjx0L1BMiD",
        "colab": {
          "base_uri": "https://localhost:8080/"
        },
        "outputId": "974438c4-9988-49c3-d8e3-0b10a9d94a96"
      },
      "source": [
        "from sklearn.linear_model import LinearRegression\n",
        "regressor = LinearRegression()\n",
        "regressor.fit(X_train, y_train)"
      ],
      "execution_count": 22,
      "outputs": [
        {
          "output_type": "execute_result",
          "data": {
            "text/plain": [
              "LinearRegression(copy_X=True, fit_intercept=True, n_jobs=None, normalize=False)"
            ]
          },
          "metadata": {},
          "execution_count": 22
        }
      ]
    },
    {
      "cell_type": "markdown",
      "metadata": {
        "id": "xNkXL1YQBiBT"
      },
      "source": [
        "## Predicting the Test set results"
      ]
    },
    {
      "cell_type": "code",
      "metadata": {
        "id": "TQKmwvtdBkyb",
        "colab": {
          "base_uri": "https://localhost:8080/"
        },
        "outputId": "a8f23e6a-097a-4fee-9be0-f2fe5e9f7b01"
      },
      "source": [
        "y_pred = regressor.predict(X_test)\n",
        "np.set_printoptions(precision=2)\n",
        "print(np.concatenate((y_pred.reshape(len(y_pred),1), y_test.reshape(len(y_test),1)),1))"
      ],
      "execution_count": 23,
      "outputs": [
        {
          "output_type": "stream",
          "name": "stdout",
          "text": [
            "[[4.2  4.5 ]\n",
            " [3.59 3.7 ]\n",
            " [3.57 5.  ]\n",
            " [4.98 4.2 ]\n",
            " [3.19 3.8 ]\n",
            " [4.2  4.2 ]\n",
            " [4.98 3.3 ]\n",
            " [4.44 4.1 ]\n",
            " [3.68 4.  ]\n",
            " [3.77 5.  ]\n",
            " [4.32 3.6 ]\n",
            " [4.11 4.6 ]\n",
            " [4.94 5.  ]\n",
            " [3.42 3.7 ]\n",
            " [4.44 4.  ]\n",
            " [3.77 5.  ]\n",
            " [4.13 5.  ]\n",
            " [3.9  2.1 ]\n",
            " [3.2  4.7 ]\n",
            " [3.81 4.5 ]\n",
            " [4.95 4.9 ]\n",
            " [4.95 3.6 ]\n",
            " [4.22 4.9 ]\n",
            " [3.81 3.7 ]\n",
            " [3.68 4.2 ]\n",
            " [3.81 3.8 ]\n",
            " [4.93 4.1 ]\n",
            " [4.13 2.7 ]\n",
            " [4.15 3.6 ]\n",
            " [3.74 3.7 ]\n",
            " [4.84 4.8 ]\n",
            " [4.96 3.5 ]\n",
            " [4.4  3.9 ]\n",
            " [3.92 4.6 ]\n",
            " [4.02 4.3 ]\n",
            " [3.92 4.3 ]\n",
            " [3.82 4.7 ]\n",
            " [4.2  4.  ]\n",
            " [3.21 2.3 ]\n",
            " [4.22 5.  ]\n",
            " [4.1  4.  ]\n",
            " [4.67 4.1 ]\n",
            " [3.25 4.9 ]\n",
            " [4.11 2.1 ]\n",
            " [4.03 2.6 ]\n",
            " [4.2  4.8 ]\n",
            " [3.91 4.4 ]\n",
            " [4.39 3.9 ]\n",
            " [4.14 5.  ]\n",
            " [3.57 2.9 ]\n",
            " [4.2  4.2 ]\n",
            " [4.07 4.8 ]\n",
            " [4.43 4.1 ]\n",
            " [3.89 4.  ]\n",
            " [3.77 4.9 ]\n",
            " [4.04 4.  ]\n",
            " [4.16 3.7 ]\n",
            " [3.89 4.9 ]\n",
            " [4.07 4.2 ]\n",
            " [3.59 3.5 ]\n",
            " [4.45 4.6 ]\n",
            " [4.2  4.4 ]\n",
            " [3.78 3.4 ]\n",
            " [3.79 4.6 ]\n",
            " [3.7  4.2 ]\n",
            " [3.56 4.2 ]]\n"
          ]
        }
      ]
    },
    {
      "cell_type": "markdown",
      "metadata": {
        "id": "7rYLy6x801vk"
      },
      "source": [
        "##Model Evaluation by r2_score"
      ]
    },
    {
      "cell_type": "code",
      "metadata": {
        "colab": {
          "base_uri": "https://localhost:8080/"
        },
        "id": "ety0yagE0-JZ",
        "outputId": "0d9ab2c5-70cc-4c95-ae8c-47cfd42493a2"
      },
      "source": [
        "from sklearn.metrics import r2_score\n",
        "r2_score(y_test, y_pred)"
      ],
      "execution_count": 24,
      "outputs": [
        {
          "output_type": "execute_result",
          "data": {
            "text/plain": [
              "-0.3145505015930512"
            ]
          },
          "metadata": {},
          "execution_count": 24
        }
      ]
    },
    {
      "cell_type": "markdown",
      "metadata": {
        "id": "vM9q-M5-1JBj"
      },
      "source": [
        "##Model Evaluation by Root Mean Squared Error(RMSE)"
      ]
    },
    {
      "cell_type": "code",
      "metadata": {
        "colab": {
          "base_uri": "https://localhost:8080/"
        },
        "id": "ATHOW85G1PU9",
        "outputId": "c8f5fdcc-9228-4bdf-815f-13279e2d1a19"
      },
      "source": [
        "from sklearn.metrics import mean_squared_error\n",
        "mean_squared_error(y_test, y_pred, squared=True)"
      ],
      "execution_count": 25,
      "outputs": [
        {
          "output_type": "execute_result",
          "data": {
            "text/plain": [
              "0.6636005443028135"
            ]
          },
          "metadata": {},
          "execution_count": 25
        }
      ]
    },
    {
      "cell_type": "markdown",
      "metadata": {
        "id": "30YqZpLH1UxD"
      },
      "source": [
        "##Model Evaluation by Mean Squared Error(MSE)"
      ]
    },
    {
      "cell_type": "code",
      "metadata": {
        "colab": {
          "base_uri": "https://localhost:8080/"
        },
        "id": "ekV5hHSH1aBd",
        "outputId": "17521fd5-0304-415a-cff8-d5c0e4655840"
      },
      "source": [
        "from sklearn.metrics import mean_squared_error\n",
        "mean_squared_error(y_test, y_pred, squared=False)"
      ],
      "execution_count": 26,
      "outputs": [
        {
          "output_type": "execute_result",
          "data": {
            "text/plain": [
              "0.8146168082619051"
            ]
          },
          "metadata": {},
          "execution_count": 26
        }
      ]
    },
    {
      "cell_type": "markdown",
      "metadata": {
        "id": "qd-pq4ev1faD"
      },
      "source": [
        "##Model Evaluation by Mean Absolute Error(MAE)"
      ]
    },
    {
      "cell_type": "code",
      "metadata": {
        "colab": {
          "base_uri": "https://localhost:8080/"
        },
        "id": "7NMc_nQI1k0W",
        "outputId": "f9ade586-aded-4638-d216-9f8294c0601d"
      },
      "source": [
        "from sklearn.metrics import mean_absolute_error\n",
        "mean_absolute_error(y_test, y_pred)"
      ],
      "execution_count": 27,
      "outputs": [
        {
          "output_type": "execute_result",
          "data": {
            "text/plain": [
              "0.6387940654747948"
            ]
          },
          "metadata": {},
          "execution_count": 27
        }
      ]
    },
    {
      "cell_type": "markdown",
      "metadata": {
        "id": "T13kXmIz3bGm"
      },
      "source": [
        "##Visualising Results"
      ]
    },
    {
      "cell_type": "code",
      "metadata": {
        "id": "r2CZNHNE3vL_",
        "colab": {
          "base_uri": "https://localhost:8080/",
          "height": 279
        },
        "outputId": "039a0b6c-59eb-4991-9e96-ea6fc15c59fa"
      },
      "source": [
        "plt.scatter(X[:,0], y, color = 'red')\n",
        "plt.plot(X[:,0], regressor.predict(X), color = 'blue')\n",
        "plt.xlabel('Features')\n",
        "plt.ylabel('Rating')\n",
        "plt.show()"
      ],
      "execution_count": 28,
      "outputs": [
        {
          "output_type": "display_data",
          "data": {
            "image/png": "[encoded data removed]",
            "text/plain": [
              "<Figure size 432x288 with 1 Axes>"
            ]
          },
          "metadata": {
            "needs_background": "light"
          }
        }
      ]
    }
  ]
}